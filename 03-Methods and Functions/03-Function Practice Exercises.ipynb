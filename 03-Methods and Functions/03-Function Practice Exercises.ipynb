{
 "cells": [
  {
   "cell_type": "markdown",
   "metadata": {},
   "source": [
    "___\n",
    "\n",
    "<a href='https://www.udemy.com/user/joseportilla/'><img src='../Pierian_Data_Logo.png'/></a>\n",
    "___\n",
    "<center><em>Content Copyright by Pierian Data</em></center>"
   ]
  },
  {
   "cell_type": "markdown",
   "metadata": {},
   "source": [
    "# Function Practice Exercises\n",
    "\n",
    "Problems are arranged in increasing difficulty:\n",
    "* Warmup - these can be solved using basic comparisons and methods\n",
    "* Level 1 - these may involve if/then conditional statements and simple methods\n",
    "* Level 2 - these may require iterating over sequences, usually with some kind of loop\n",
    "* Challenging - these will take some creativity to solve"
   ]
  },
  {
   "cell_type": "markdown",
   "metadata": {},
   "source": [
    "## WARMUP SECTION:"
   ]
  },
  {
   "cell_type": "markdown",
   "metadata": {},
   "source": [
    "#### LESSER OF TWO EVENS: Write a function that returns the lesser of two given numbers *if* both numbers are even, but returns the greater if one or both numbers are odd\n",
    "    lesser_of_two_evens(2,4) --> 2\n",
    "    lesser_of_two_evens(2,5) --> 5"
   ]
  },
  {
   "cell_type": "code",
   "execution_count": 17,
   "metadata": {
    "collapsed": true
   },
   "outputs": [],
   "source": [
    "def lesser_of_two_evens(a,b):\n",
    "    print('a % 2 == 0 and b % 2 == 0: {}'.format(a % 2 == 0 and b % 2 == 0))\n",
    "    print('a <= b: {}'.format(a <= b))\n",
    "    print('a >= b: {}'.format(a >= b))\n",
    "\n",
    "    if a % 2 == 0 and b % 2 == 0:\n",
    "        if a <= b:\n",
    "            return a\n",
    "        else:\n",
    "            return b\n",
    "    elif a >= b:\n",
    "\n",
    "        return a\n",
    "    else:\n",
    "        return b"
   ]
  },
  {
   "cell_type": "code",
   "execution_count": 18,
   "metadata": {
    "collapsed": true
   },
   "outputs": [
    {
     "name": "stdout",
     "output_type": "stream",
     "text": [
      "a % 2 == 0 and b % 2 == 0: True\n",
      "a <= b: True\n",
      "a >= b: False\n",
      "2\n"
     ]
    }
   ],
   "source": [
    "# Check\n",
    "print(lesser_of_two_evens(2,4))"
   ]
  },
  {
   "cell_type": "code",
   "execution_count": 19,
   "metadata": {
    "collapsed": true
   },
   "outputs": [
    {
     "name": "stdout",
     "output_type": "stream",
     "text": [
      "a % 2 == 0 and b % 2 == 0: False\n",
      "a <= b: True\n",
      "a >= b: False\n",
      "5\n"
     ]
    }
   ],
   "source": [
    "# Check\n",
    "print(lesser_of_two_evens(2,5))"
   ]
  },
  {
   "cell_type": "markdown",
   "metadata": {},
   "source": [
    "#### ANIMAL CRACKERS: Write a function takes a two-word string and returns True if both words begin with same letter\n",
    "    animal_crackers('Levelheaded Llama') --> True\n",
    "    animal_crackers('Crazy Kangaroo') --> False"
   ]
  },
  {
   "cell_type": "code",
   "execution_count": 20,
   "metadata": {
    "collapsed": true
   },
   "outputs": [],
   "source": [
    "def animal_crackers(text):\n",
    "    words = text.split()\n",
    "\n",
    "    if len(words) != 2:\n",
    "        return False\n",
    "\n",
    "    return words[0][0] == words[1][0]"
   ]
  },
  {
   "cell_type": "code",
   "execution_count": 21,
   "metadata": {
    "collapsed": true
   },
   "outputs": [
    {
     "data": {
      "text/plain": "True"
     },
     "execution_count": 21,
     "metadata": {},
     "output_type": "execute_result"
    }
   ],
   "source": [
    "# Check\n",
    "animal_crackers('Levelheaded Llama')"
   ]
  },
  {
   "cell_type": "code",
   "execution_count": 22,
   "metadata": {
    "collapsed": true
   },
   "outputs": [
    {
     "data": {
      "text/plain": "False"
     },
     "execution_count": 22,
     "metadata": {},
     "output_type": "execute_result"
    }
   ],
   "source": [
    "# Check\n",
    "animal_crackers('Crazy Kangaroo')"
   ]
  },
  {
   "cell_type": "markdown",
   "metadata": {},
   "source": [
    "#### MAKES TWENTY: Given two integers, return True if the sum of the integers is 20 *or* if one of the integers is 20. If not, return False\n",
    "\n",
    "    makes_twenty(20,10) --> True\n",
    "    makes_twenty(12,8) --> True\n",
    "    makes_twenty(2,3) --> False"
   ]
  },
  {
   "cell_type": "code",
   "execution_count": 23,
   "metadata": {
    "collapsed": true
   },
   "outputs": [],
   "source": [
    "def makes_twenty(n1,n2):\n",
    "    return n1 == 20 or n2 == 20 or n1 + n2 == 20"
   ]
  },
  {
   "cell_type": "code",
   "execution_count": 24,
   "metadata": {
    "collapsed": true
   },
   "outputs": [
    {
     "data": {
      "text/plain": "True"
     },
     "execution_count": 24,
     "metadata": {},
     "output_type": "execute_result"
    }
   ],
   "source": [
    "# Check\n",
    "makes_twenty(20,10)"
   ]
  },
  {
   "cell_type": "code",
   "execution_count": 25,
   "metadata": {
    "collapsed": true
   },
   "outputs": [
    {
     "data": {
      "text/plain": "False"
     },
     "execution_count": 25,
     "metadata": {},
     "output_type": "execute_result"
    }
   ],
   "source": [
    "# Check\n",
    "makes_twenty(2,3)"
   ]
  },
  {
   "cell_type": "markdown",
   "metadata": {},
   "source": [
    "# LEVEL 1 PROBLEMS"
   ]
  },
  {
   "cell_type": "markdown",
   "metadata": {},
   "source": [
    "#### OLD MACDONALD: Write a function that capitalizes the first and fourth letters of a name\n",
    "     \n",
    "    old_macdonald('macdonald') --> MacDonald\n",
    "    \n",
    "Note: `'macdonald'.capitalize()` returns `'Macdonald'`"
   ]
  },
  {
   "cell_type": "code",
   "execution_count": 28,
   "metadata": {
    "collapsed": true
   },
   "outputs": [],
   "source": [
    "def old_macdonald(name):\n",
    "    return name.capitalize()[0] + name[1:3] + name[3:4].capitalize() + name[4:]"
   ]
  },
  {
   "cell_type": "code",
   "execution_count": 29,
   "metadata": {
    "collapsed": true
   },
   "outputs": [
    {
     "data": {
      "text/plain": "'MacDonald'"
     },
     "execution_count": 29,
     "metadata": {},
     "output_type": "execute_result"
    }
   ],
   "source": [
    "# Check\n",
    "old_macdonald('macdonald')"
   ]
  },
  {
   "cell_type": "markdown",
   "metadata": {},
   "source": [
    "#### MASTER YODA: Given a sentence, return a sentence with the words reversed\n",
    "\n",
    "    master_yoda('I am home') --> 'home am I'\n",
    "    master_yoda('We are ready') --> 'ready are We'\n",
    "    \n",
    "Note: The .join() method may be useful here. The .join() method allows you to join together strings in a list with some connector string. For example, some uses of the .join() method:\n",
    "\n",
    "    >>> \"--\".join(['a','b','c'])\n",
    "    >>> 'a--b--c'\n",
    "\n",
    "This means if you had a list of words you wanted to turn back into a sentence, you could just join them with a single space string:\n",
    "\n",
    "    >>> \" \".join(['Hello','world'])\n",
    "    >>> \"Hello world\""
   ]
  },
  {
   "cell_type": "code",
   "execution_count": 30,
   "metadata": {
    "collapsed": true
   },
   "outputs": [],
   "source": [
    "def master_yoda(text):\n",
    "    return text.split()[::-1]"
   ]
  },
  {
   "cell_type": "code",
   "execution_count": 31,
   "metadata": {
    "collapsed": true
   },
   "outputs": [
    {
     "data": {
      "text/plain": "['home', 'am', 'I']"
     },
     "execution_count": 31,
     "metadata": {},
     "output_type": "execute_result"
    }
   ],
   "source": [
    "# Check\n",
    "master_yoda('I am home')"
   ]
  },
  {
   "cell_type": "code",
   "execution_count": 32,
   "metadata": {
    "collapsed": true
   },
   "outputs": [
    {
     "data": {
      "text/plain": "['ready', 'are', 'We']"
     },
     "execution_count": 32,
     "metadata": {},
     "output_type": "execute_result"
    }
   ],
   "source": [
    "# Check\n",
    "master_yoda('We are ready')"
   ]
  },
  {
   "cell_type": "markdown",
   "metadata": {},
   "source": [
    "#### ALMOST THERE: Given an integer n, return True if n is within 10 of either 100 or 200\n",
    "\n",
    "    almost_there(90) --> True\n",
    "    almost_there(104) --> True\n",
    "    almost_there(150) --> False\n",
    "    almost_there(209) --> True\n",
    "    \n",
    "NOTE: `abs(num)` returns the absolute value of a number"
   ]
  },
  {
   "cell_type": "code",
   "execution_count": 36,
   "metadata": {
    "collapsed": true
   },
   "outputs": [],
   "source": [
    "def almost_there(n):\n",
    "    return (100 <= n + 10 < 110) or (100 >= n - 10 > 90) or (200 <= n + 10 < 210) or (200 >= n - 10 > 190)"
   ]
  },
  {
   "cell_type": "code",
   "execution_count": 37,
   "metadata": {
    "collapsed": true
   },
   "outputs": [
    {
     "data": {
      "text/plain": "True"
     },
     "execution_count": 37,
     "metadata": {},
     "output_type": "execute_result"
    }
   ],
   "source": [
    "# Check\n",
    "almost_there(104)"
   ]
  },
  {
   "cell_type": "code",
   "execution_count": 38,
   "metadata": {
    "collapsed": true
   },
   "outputs": [
    {
     "data": {
      "text/plain": "False"
     },
     "execution_count": 38,
     "metadata": {},
     "output_type": "execute_result"
    }
   ],
   "source": [
    "# Check\n",
    "almost_there(150)"
   ]
  },
  {
   "cell_type": "code",
   "execution_count": 41,
   "metadata": {
    "collapsed": true
   },
   "outputs": [
    {
     "name": "stdout",
     "output_type": "stream",
     "text": [
      "True\n",
      "True\n"
     ]
    }
   ],
   "source": [
    "# Check\n",
    "print(almost_there(209))\n",
    "print(almost_there(195))"
   ]
  },
  {
   "cell_type": "markdown",
   "metadata": {},
   "source": [
    "# LEVEL 2 PROBLEMS"
   ]
  },
  {
   "cell_type": "markdown",
   "metadata": {},
   "source": [
    "#### FIND 33: \n",
    "\n",
    "Given a list of ints, return True if the array contains a 3 next to a 3 somewhere.\n",
    "\n",
    "    has_33([1, 3, 3]) → True\n",
    "    has_33([1, 3, 1, 3]) → False\n",
    "    has_33([3, 1, 3]) → False"
   ]
  },
  {
   "cell_type": "code",
   "execution_count": 45,
   "metadata": {
    "collapsed": true
   },
   "outputs": [],
   "source": [
    "def has_33(nums):\n",
    "    for i, n in enumerate(nums):\n",
    "        if n == 3 and i+1 < len(nums) and nums[i+1] == 3:\n",
    "            return True\n",
    "\n",
    "    return False"
   ]
  },
  {
   "cell_type": "code",
   "execution_count": 46,
   "metadata": {
    "collapsed": true
   },
   "outputs": [
    {
     "data": {
      "text/plain": "True"
     },
     "execution_count": 46,
     "metadata": {},
     "output_type": "execute_result"
    }
   ],
   "source": [
    "# Check\n",
    "has_33([1, 3, 3])"
   ]
  },
  {
   "cell_type": "code",
   "execution_count": 47,
   "metadata": {
    "collapsed": true
   },
   "outputs": [
    {
     "data": {
      "text/plain": "False"
     },
     "execution_count": 47,
     "metadata": {},
     "output_type": "execute_result"
    }
   ],
   "source": [
    "# Check\n",
    "has_33([1, 3, 1, 3])"
   ]
  },
  {
   "cell_type": "code",
   "execution_count": 48,
   "metadata": {
    "collapsed": true
   },
   "outputs": [
    {
     "data": {
      "text/plain": "False"
     },
     "execution_count": 48,
     "metadata": {},
     "output_type": "execute_result"
    }
   ],
   "source": [
    "# Check\n",
    "has_33([3, 1, 3])"
   ]
  },
  {
   "cell_type": "markdown",
   "metadata": {},
   "source": [
    "#### PAPER DOLL: Given a string, return a string where for every character in the original there are three characters\n",
    "    paper_doll('Hello') --> 'HHHeeellllllooo'\n",
    "    paper_doll('Mississippi') --> 'MMMiiissssssiiippppppiii'"
   ]
  },
  {
   "cell_type": "code",
   "execution_count": 49,
   "metadata": {
    "collapsed": true
   },
   "outputs": [],
   "source": [
    "def paper_doll(text):\n",
    "    s = ''\n",
    "    for c in text:\n",
    "        s += c*3\n",
    "\n",
    "    return s"
   ]
  },
  {
   "cell_type": "code",
   "execution_count": 50,
   "metadata": {
    "collapsed": true
   },
   "outputs": [
    {
     "data": {
      "text/plain": "'HHHeeellllllooo'"
     },
     "execution_count": 50,
     "metadata": {},
     "output_type": "execute_result"
    }
   ],
   "source": [
    "# Check\n",
    "paper_doll('Hello')"
   ]
  },
  {
   "cell_type": "code",
   "execution_count": 51,
   "metadata": {
    "collapsed": true
   },
   "outputs": [
    {
     "data": {
      "text/plain": "'MMMiiissssssiiissssssiiippppppiii'"
     },
     "execution_count": 51,
     "metadata": {},
     "output_type": "execute_result"
    }
   ],
   "source": [
    "# Check\n",
    "paper_doll('Mississippi')"
   ]
  },
  {
   "cell_type": "markdown",
   "metadata": {},
   "source": [
    "#### BLACKJACK: Given three integers between 1 and 11, if their sum is less than or equal to 21, return their sum. If their sum exceeds 21 *and* there's an eleven, reduce the total sum by 10. Finally, if the sum (even after adjustment) exceeds 21, return 'BUST'\n",
    "    blackjack(5,6,7) --> 18\n",
    "    blackjack(9,9,9) --> 'BUST'\n",
    "    blackjack(9,9,11) --> 19"
   ]
  },
  {
   "cell_type": "code",
   "execution_count": 52,
   "metadata": {
    "collapsed": true
   },
   "outputs": [],
   "source": [
    "def blackjack(a,b,c):\n",
    "    total = a+b+c\n",
    "    hasEleven = a == 11 or b == 11 or c == 11\n",
    "\n",
    "    if total <= 21:\n",
    "        return total\n",
    "    elif total > 21 and not hasEleven:\n",
    "        return 'BUST'\n",
    "\n",
    "    return total-10"
   ]
  },
  {
   "cell_type": "code",
   "execution_count": 53,
   "metadata": {
    "collapsed": true
   },
   "outputs": [
    {
     "data": {
      "text/plain": "18"
     },
     "execution_count": 53,
     "metadata": {},
     "output_type": "execute_result"
    }
   ],
   "source": [
    "# Check\n",
    "blackjack(5,6,7)"
   ]
  },
  {
   "cell_type": "code",
   "execution_count": 54,
   "metadata": {
    "collapsed": true
   },
   "outputs": [
    {
     "data": {
      "text/plain": "'BUST'"
     },
     "execution_count": 54,
     "metadata": {},
     "output_type": "execute_result"
    }
   ],
   "source": [
    "# Check\n",
    "blackjack(9,9,9)"
   ]
  },
  {
   "cell_type": "code",
   "execution_count": 55,
   "metadata": {
    "collapsed": true
   },
   "outputs": [
    {
     "data": {
      "text/plain": "19"
     },
     "execution_count": 55,
     "metadata": {},
     "output_type": "execute_result"
    }
   ],
   "source": [
    "# Check\n",
    "blackjack(9,9,11)"
   ]
  },
  {
   "cell_type": "markdown",
   "metadata": {},
   "source": [
    "#### SUMMER OF '69: Return the sum of the numbers in the array, except ignore sections of numbers starting with a 6 and extending to the next 9 (every 6 will be followed by at least one 9). Return 0 for no numbers.\n",
    " \n",
    "    summer_69([1, 3, 5]) --> 9\n",
    "    summer_69([4, 5, 6, 7, 8, 9]) --> 9\n",
    "    summer_69([2, 1, 6, 9, 11]) --> 14"
   ]
  },
  {
   "cell_type": "code",
   "execution_count": 70,
   "metadata": {
    "collapsed": true
   },
   "outputs": [],
   "source": [
    "def summer_69(arr):\n",
    "    ignore = False\n",
    "    sum = 0\n",
    "\n",
    "    if len(arr) == 0:\n",
    "        return sum\n",
    "\n",
    "    for n in arr:\n",
    "        print(f'n: {n}\\n\\tignore: {ignore}\\n\\tsum: {sum}')\n",
    "\n",
    "        if n == 6:\n",
    "            print('starting ignore')\n",
    "            ignore = True\n",
    "            continue\n",
    "        elif n == 9:\n",
    "            print('stopping ignore')\n",
    "            ignore = False\n",
    "            continue\n",
    "        elif ignore:\n",
    "            continue\n",
    "\n",
    "        sum += n\n",
    "\n",
    "    return sum"
   ]
  },
  {
   "cell_type": "code",
   "execution_count": 71,
   "metadata": {
    "collapsed": true
   },
   "outputs": [
    {
     "name": "stdout",
     "output_type": "stream",
     "text": [
      "n: 1\n",
      "\tignore: False\n",
      "\tsum: 0\n",
      "n: 3\n",
      "\tignore: False\n",
      "\tsum: 1\n",
      "n: 5\n",
      "\tignore: False\n",
      "\tsum: 4\n"
     ]
    },
    {
     "data": {
      "text/plain": "9"
     },
     "execution_count": 71,
     "metadata": {},
     "output_type": "execute_result"
    }
   ],
   "source": [
    "# Check\n",
    "summer_69([1, 3, 5])"
   ]
  },
  {
   "cell_type": "code",
   "execution_count": 72,
   "metadata": {
    "collapsed": true
   },
   "outputs": [
    {
     "name": "stdout",
     "output_type": "stream",
     "text": [
      "n: 4\n",
      "\tignore: False\n",
      "\tsum: 0\n",
      "n: 5\n",
      "\tignore: False\n",
      "\tsum: 4\n",
      "n: 6\n",
      "\tignore: False\n",
      "\tsum: 9\n",
      "starting ignore\n",
      "n: 7\n",
      "\tignore: True\n",
      "\tsum: 9\n",
      "n: 8\n",
      "\tignore: True\n",
      "\tsum: 9\n",
      "n: 9\n",
      "\tignore: True\n",
      "\tsum: 9\n",
      "stopping ignore\n"
     ]
    },
    {
     "data": {
      "text/plain": "9"
     },
     "execution_count": 72,
     "metadata": {},
     "output_type": "execute_result"
    }
   ],
   "source": [
    "# Check\n",
    "summer_69([4, 5, 6, 7, 8, 9])"
   ]
  },
  {
   "cell_type": "code",
   "execution_count": 73,
   "metadata": {
    "collapsed": true
   },
   "outputs": [
    {
     "name": "stdout",
     "output_type": "stream",
     "text": [
      "n: 2\n",
      "\tignore: False\n",
      "\tsum: 0\n",
      "n: 1\n",
      "\tignore: False\n",
      "\tsum: 2\n",
      "n: 6\n",
      "\tignore: False\n",
      "\tsum: 3\n",
      "starting ignore\n",
      "n: 9\n",
      "\tignore: True\n",
      "\tsum: 3\n",
      "stopping ignore\n",
      "n: 11\n",
      "\tignore: False\n",
      "\tsum: 3\n"
     ]
    },
    {
     "data": {
      "text/plain": "14"
     },
     "execution_count": 73,
     "metadata": {},
     "output_type": "execute_result"
    }
   ],
   "source": [
    "# Check\n",
    "summer_69([2, 1, 6, 9, 11])"
   ]
  },
  {
   "cell_type": "markdown",
   "metadata": {},
   "source": [
    "# CHALLENGING PROBLEMS"
   ]
  },
  {
   "cell_type": "markdown",
   "metadata": {},
   "source": [
    "#### SPY GAME: Write a function that takes in a list of integers and returns True if it contains 007 in order\n",
    "\n",
    "     spy_game([1,2,4,0,0,7,5]) --> True\n",
    "     spy_game([1,0,2,4,0,5,7]) --> True\n",
    "     spy_game([1,7,2,0,4,5,0]) --> False\n"
   ]
  },
  {
   "cell_type": "code",
   "execution_count": 82,
   "metadata": {
    "collapsed": true
   },
   "outputs": [],
   "source": [
    "def spy_game(nums):\n",
    "    for i, n in enumerate(nums):\n",
    "        if n != 0:\n",
    "            continue\n",
    "\n",
    "        print(f'second candidates: {nums[i+1:]}')\n",
    "\n",
    "        for j, m in enumerate(nums[i+1:]):\n",
    "            if m != 0:\n",
    "                continue\n",
    "\n",
    "            print(f'third candidates: {nums[i+1:][j+1:]}')\n",
    "\n",
    "            for k, x in enumerate(nums[i+1:][j+1:]):\n",
    "                if x == 7:\n",
    "                    return True\n",
    "\n",
    "    return False"
   ]
  },
  {
   "cell_type": "code",
   "execution_count": 83,
   "metadata": {
    "collapsed": true
   },
   "outputs": [
    {
     "name": "stdout",
     "output_type": "stream",
     "text": [
      "second candidates: [0, 7, 5]\n",
      "third candidates: [7, 5]\n"
     ]
    },
    {
     "data": {
      "text/plain": "True"
     },
     "execution_count": 83,
     "metadata": {},
     "output_type": "execute_result"
    }
   ],
   "source": [
    "# Check\n",
    "spy_game([1,2,4,0,0,7,5])"
   ]
  },
  {
   "cell_type": "code",
   "execution_count": 84,
   "metadata": {
    "collapsed": true
   },
   "outputs": [
    {
     "name": "stdout",
     "output_type": "stream",
     "text": [
      "second candidates: [2, 4, 0, 5, 7]\n",
      "third candidates: [5, 7]\n"
     ]
    },
    {
     "data": {
      "text/plain": "True"
     },
     "execution_count": 84,
     "metadata": {},
     "output_type": "execute_result"
    }
   ],
   "source": [
    "# Check\n",
    "spy_game([1,0,2,4,0,5,7])"
   ]
  },
  {
   "cell_type": "code",
   "execution_count": 85,
   "metadata": {
    "collapsed": true
   },
   "outputs": [
    {
     "name": "stdout",
     "output_type": "stream",
     "text": [
      "second candidates: [4, 5, 0]\n",
      "third candidates: []\n",
      "second candidates: []\n"
     ]
    },
    {
     "data": {
      "text/plain": "False"
     },
     "execution_count": 85,
     "metadata": {},
     "output_type": "execute_result"
    }
   ],
   "source": [
    "# Check\n",
    "spy_game([1,7,2,0,4,5,0])"
   ]
  },
  {
   "cell_type": "markdown",
   "metadata": {},
   "source": [
    "#### COUNT PRIMES: Write a function that returns the *number* of prime numbers that exist up to and including a given number\n",
    "    count_primes(100) --> 25\n",
    "\n",
    "By convention, 0 and 1 are not prime."
   ]
  },
  {
   "cell_type": "code",
   "execution_count": 96,
   "metadata": {
    "collapsed": true
   },
   "outputs": [],
   "source": [
    "def count_primes(num):\n",
    "    count = 0\n",
    "\n",
    "    if num <= 1:\n",
    "        return 0\n",
    "\n",
    "    for n in range(2, num):\n",
    "        print(f'n = {n}')\n",
    "\n",
    "        i = 2\n",
    "        is_prime = True\n",
    "        while i ** 2 <= n:\n",
    "            print(f'\\ti: {i}\\n\\ti^2: {i**2}')\n",
    "            if n % i == 0:\n",
    "                is_prime = False\n",
    "                break\n",
    "            i += 1\n",
    "\n",
    "        if is_prime:\n",
    "            count += 1\n",
    "\n",
    "    return count"
   ]
  },
  {
   "cell_type": "code",
   "execution_count": 97,
   "metadata": {
    "collapsed": true
   },
   "outputs": [
    {
     "name": "stdout",
     "output_type": "stream",
     "text": [
      "n = 2\n",
      "n = 3\n",
      "n = 4\n",
      "\ti: 2\n",
      "\ti^2: 4\n",
      "n = 5\n",
      "\ti: 2\n",
      "\ti^2: 4\n",
      "n = 6\n",
      "\ti: 2\n",
      "\ti^2: 4\n",
      "n = 7\n",
      "\ti: 2\n",
      "\ti^2: 4\n",
      "n = 8\n",
      "\ti: 2\n",
      "\ti^2: 4\n",
      "n = 9\n",
      "\ti: 2\n",
      "\ti^2: 4\n",
      "\ti: 3\n",
      "\ti^2: 9\n",
      "n = 10\n",
      "\ti: 2\n",
      "\ti^2: 4\n",
      "n = 11\n",
      "\ti: 2\n",
      "\ti^2: 4\n",
      "\ti: 3\n",
      "\ti^2: 9\n",
      "n = 12\n",
      "\ti: 2\n",
      "\ti^2: 4\n",
      "n = 13\n",
      "\ti: 2\n",
      "\ti^2: 4\n",
      "\ti: 3\n",
      "\ti^2: 9\n",
      "n = 14\n",
      "\ti: 2\n",
      "\ti^2: 4\n",
      "n = 15\n",
      "\ti: 2\n",
      "\ti^2: 4\n",
      "\ti: 3\n",
      "\ti^2: 9\n",
      "n = 16\n",
      "\ti: 2\n",
      "\ti^2: 4\n",
      "n = 17\n",
      "\ti: 2\n",
      "\ti^2: 4\n",
      "\ti: 3\n",
      "\ti^2: 9\n",
      "\ti: 4\n",
      "\ti^2: 16\n",
      "n = 18\n",
      "\ti: 2\n",
      "\ti^2: 4\n",
      "n = 19\n",
      "\ti: 2\n",
      "\ti^2: 4\n",
      "\ti: 3\n",
      "\ti^2: 9\n",
      "\ti: 4\n",
      "\ti^2: 16\n",
      "n = 20\n",
      "\ti: 2\n",
      "\ti^2: 4\n",
      "n = 21\n",
      "\ti: 2\n",
      "\ti^2: 4\n",
      "\ti: 3\n",
      "\ti^2: 9\n",
      "n = 22\n",
      "\ti: 2\n",
      "\ti^2: 4\n",
      "n = 23\n",
      "\ti: 2\n",
      "\ti^2: 4\n",
      "\ti: 3\n",
      "\ti^2: 9\n",
      "\ti: 4\n",
      "\ti^2: 16\n",
      "n = 24\n",
      "\ti: 2\n",
      "\ti^2: 4\n",
      "n = 25\n",
      "\ti: 2\n",
      "\ti^2: 4\n",
      "\ti: 3\n",
      "\ti^2: 9\n",
      "\ti: 4\n",
      "\ti^2: 16\n",
      "\ti: 5\n",
      "\ti^2: 25\n",
      "n = 26\n",
      "\ti: 2\n",
      "\ti^2: 4\n",
      "n = 27\n",
      "\ti: 2\n",
      "\ti^2: 4\n",
      "\ti: 3\n",
      "\ti^2: 9\n",
      "n = 28\n",
      "\ti: 2\n",
      "\ti^2: 4\n",
      "n = 29\n",
      "\ti: 2\n",
      "\ti^2: 4\n",
      "\ti: 3\n",
      "\ti^2: 9\n",
      "\ti: 4\n",
      "\ti^2: 16\n",
      "\ti: 5\n",
      "\ti^2: 25\n",
      "n = 30\n",
      "\ti: 2\n",
      "\ti^2: 4\n",
      "n = 31\n",
      "\ti: 2\n",
      "\ti^2: 4\n",
      "\ti: 3\n",
      "\ti^2: 9\n",
      "\ti: 4\n",
      "\ti^2: 16\n",
      "\ti: 5\n",
      "\ti^2: 25\n",
      "n = 32\n",
      "\ti: 2\n",
      "\ti^2: 4\n",
      "n = 33\n",
      "\ti: 2\n",
      "\ti^2: 4\n",
      "\ti: 3\n",
      "\ti^2: 9\n",
      "n = 34\n",
      "\ti: 2\n",
      "\ti^2: 4\n",
      "n = 35\n",
      "\ti: 2\n",
      "\ti^2: 4\n",
      "\ti: 3\n",
      "\ti^2: 9\n",
      "\ti: 4\n",
      "\ti^2: 16\n",
      "\ti: 5\n",
      "\ti^2: 25\n",
      "n = 36\n",
      "\ti: 2\n",
      "\ti^2: 4\n",
      "n = 37\n",
      "\ti: 2\n",
      "\ti^2: 4\n",
      "\ti: 3\n",
      "\ti^2: 9\n",
      "\ti: 4\n",
      "\ti^2: 16\n",
      "\ti: 5\n",
      "\ti^2: 25\n",
      "\ti: 6\n",
      "\ti^2: 36\n",
      "n = 38\n",
      "\ti: 2\n",
      "\ti^2: 4\n",
      "n = 39\n",
      "\ti: 2\n",
      "\ti^2: 4\n",
      "\ti: 3\n",
      "\ti^2: 9\n",
      "n = 40\n",
      "\ti: 2\n",
      "\ti^2: 4\n",
      "n = 41\n",
      "\ti: 2\n",
      "\ti^2: 4\n",
      "\ti: 3\n",
      "\ti^2: 9\n",
      "\ti: 4\n",
      "\ti^2: 16\n",
      "\ti: 5\n",
      "\ti^2: 25\n",
      "\ti: 6\n",
      "\ti^2: 36\n",
      "n = 42\n",
      "\ti: 2\n",
      "\ti^2: 4\n",
      "n = 43\n",
      "\ti: 2\n",
      "\ti^2: 4\n",
      "\ti: 3\n",
      "\ti^2: 9\n",
      "\ti: 4\n",
      "\ti^2: 16\n",
      "\ti: 5\n",
      "\ti^2: 25\n",
      "\ti: 6\n",
      "\ti^2: 36\n",
      "n = 44\n",
      "\ti: 2\n",
      "\ti^2: 4\n",
      "n = 45\n",
      "\ti: 2\n",
      "\ti^2: 4\n",
      "\ti: 3\n",
      "\ti^2: 9\n",
      "n = 46\n",
      "\ti: 2\n",
      "\ti^2: 4\n",
      "n = 47\n",
      "\ti: 2\n",
      "\ti^2: 4\n",
      "\ti: 3\n",
      "\ti^2: 9\n",
      "\ti: 4\n",
      "\ti^2: 16\n",
      "\ti: 5\n",
      "\ti^2: 25\n",
      "\ti: 6\n",
      "\ti^2: 36\n",
      "n = 48\n",
      "\ti: 2\n",
      "\ti^2: 4\n",
      "n = 49\n",
      "\ti: 2\n",
      "\ti^2: 4\n",
      "\ti: 3\n",
      "\ti^2: 9\n",
      "\ti: 4\n",
      "\ti^2: 16\n",
      "\ti: 5\n",
      "\ti^2: 25\n",
      "\ti: 6\n",
      "\ti^2: 36\n",
      "\ti: 7\n",
      "\ti^2: 49\n",
      "n = 50\n",
      "\ti: 2\n",
      "\ti^2: 4\n",
      "n = 51\n",
      "\ti: 2\n",
      "\ti^2: 4\n",
      "\ti: 3\n",
      "\ti^2: 9\n",
      "n = 52\n",
      "\ti: 2\n",
      "\ti^2: 4\n",
      "n = 53\n",
      "\ti: 2\n",
      "\ti^2: 4\n",
      "\ti: 3\n",
      "\ti^2: 9\n",
      "\ti: 4\n",
      "\ti^2: 16\n",
      "\ti: 5\n",
      "\ti^2: 25\n",
      "\ti: 6\n",
      "\ti^2: 36\n",
      "\ti: 7\n",
      "\ti^2: 49\n",
      "n = 54\n",
      "\ti: 2\n",
      "\ti^2: 4\n",
      "n = 55\n",
      "\ti: 2\n",
      "\ti^2: 4\n",
      "\ti: 3\n",
      "\ti^2: 9\n",
      "\ti: 4\n",
      "\ti^2: 16\n",
      "\ti: 5\n",
      "\ti^2: 25\n",
      "n = 56\n",
      "\ti: 2\n",
      "\ti^2: 4\n",
      "n = 57\n",
      "\ti: 2\n",
      "\ti^2: 4\n",
      "\ti: 3\n",
      "\ti^2: 9\n",
      "n = 58\n",
      "\ti: 2\n",
      "\ti^2: 4\n",
      "n = 59\n",
      "\ti: 2\n",
      "\ti^2: 4\n",
      "\ti: 3\n",
      "\ti^2: 9\n",
      "\ti: 4\n",
      "\ti^2: 16\n",
      "\ti: 5\n",
      "\ti^2: 25\n",
      "\ti: 6\n",
      "\ti^2: 36\n",
      "\ti: 7\n",
      "\ti^2: 49\n",
      "n = 60\n",
      "\ti: 2\n",
      "\ti^2: 4\n",
      "n = 61\n",
      "\ti: 2\n",
      "\ti^2: 4\n",
      "\ti: 3\n",
      "\ti^2: 9\n",
      "\ti: 4\n",
      "\ti^2: 16\n",
      "\ti: 5\n",
      "\ti^2: 25\n",
      "\ti: 6\n",
      "\ti^2: 36\n",
      "\ti: 7\n",
      "\ti^2: 49\n",
      "n = 62\n",
      "\ti: 2\n",
      "\ti^2: 4\n",
      "n = 63\n",
      "\ti: 2\n",
      "\ti^2: 4\n",
      "\ti: 3\n",
      "\ti^2: 9\n",
      "n = 64\n",
      "\ti: 2\n",
      "\ti^2: 4\n",
      "n = 65\n",
      "\ti: 2\n",
      "\ti^2: 4\n",
      "\ti: 3\n",
      "\ti^2: 9\n",
      "\ti: 4\n",
      "\ti^2: 16\n",
      "\ti: 5\n",
      "\ti^2: 25\n",
      "n = 66\n",
      "\ti: 2\n",
      "\ti^2: 4\n",
      "n = 67\n",
      "\ti: 2\n",
      "\ti^2: 4\n",
      "\ti: 3\n",
      "\ti^2: 9\n",
      "\ti: 4\n",
      "\ti^2: 16\n",
      "\ti: 5\n",
      "\ti^2: 25\n",
      "\ti: 6\n",
      "\ti^2: 36\n",
      "\ti: 7\n",
      "\ti^2: 49\n",
      "\ti: 8\n",
      "\ti^2: 64\n",
      "n = 68\n",
      "\ti: 2\n",
      "\ti^2: 4\n",
      "n = 69\n",
      "\ti: 2\n",
      "\ti^2: 4\n",
      "\ti: 3\n",
      "\ti^2: 9\n",
      "n = 70\n",
      "\ti: 2\n",
      "\ti^2: 4\n",
      "n = 71\n",
      "\ti: 2\n",
      "\ti^2: 4\n",
      "\ti: 3\n",
      "\ti^2: 9\n",
      "\ti: 4\n",
      "\ti^2: 16\n",
      "\ti: 5\n",
      "\ti^2: 25\n",
      "\ti: 6\n",
      "\ti^2: 36\n",
      "\ti: 7\n",
      "\ti^2: 49\n",
      "\ti: 8\n",
      "\ti^2: 64\n",
      "n = 72\n",
      "\ti: 2\n",
      "\ti^2: 4\n",
      "n = 73\n",
      "\ti: 2\n",
      "\ti^2: 4\n",
      "\ti: 3\n",
      "\ti^2: 9\n",
      "\ti: 4\n",
      "\ti^2: 16\n",
      "\ti: 5\n",
      "\ti^2: 25\n",
      "\ti: 6\n",
      "\ti^2: 36\n",
      "\ti: 7\n",
      "\ti^2: 49\n",
      "\ti: 8\n",
      "\ti^2: 64\n",
      "n = 74\n",
      "\ti: 2\n",
      "\ti^2: 4\n",
      "n = 75\n",
      "\ti: 2\n",
      "\ti^2: 4\n",
      "\ti: 3\n",
      "\ti^2: 9\n",
      "n = 76\n",
      "\ti: 2\n",
      "\ti^2: 4\n",
      "n = 77\n",
      "\ti: 2\n",
      "\ti^2: 4\n",
      "\ti: 3\n",
      "\ti^2: 9\n",
      "\ti: 4\n",
      "\ti^2: 16\n",
      "\ti: 5\n",
      "\ti^2: 25\n",
      "\ti: 6\n",
      "\ti^2: 36\n",
      "\ti: 7\n",
      "\ti^2: 49\n",
      "n = 78\n",
      "\ti: 2\n",
      "\ti^2: 4\n",
      "n = 79\n",
      "\ti: 2\n",
      "\ti^2: 4\n",
      "\ti: 3\n",
      "\ti^2: 9\n",
      "\ti: 4\n",
      "\ti^2: 16\n",
      "\ti: 5\n",
      "\ti^2: 25\n",
      "\ti: 6\n",
      "\ti^2: 36\n",
      "\ti: 7\n",
      "\ti^2: 49\n",
      "\ti: 8\n",
      "\ti^2: 64\n",
      "n = 80\n",
      "\ti: 2\n",
      "\ti^2: 4\n",
      "n = 81\n",
      "\ti: 2\n",
      "\ti^2: 4\n",
      "\ti: 3\n",
      "\ti^2: 9\n",
      "n = 82\n",
      "\ti: 2\n",
      "\ti^2: 4\n",
      "n = 83\n",
      "\ti: 2\n",
      "\ti^2: 4\n",
      "\ti: 3\n",
      "\ti^2: 9\n",
      "\ti: 4\n",
      "\ti^2: 16\n",
      "\ti: 5\n",
      "\ti^2: 25\n",
      "\ti: 6\n",
      "\ti^2: 36\n",
      "\ti: 7\n",
      "\ti^2: 49\n",
      "\ti: 8\n",
      "\ti^2: 64\n",
      "\ti: 9\n",
      "\ti^2: 81\n",
      "n = 84\n",
      "\ti: 2\n",
      "\ti^2: 4\n",
      "n = 85\n",
      "\ti: 2\n",
      "\ti^2: 4\n",
      "\ti: 3\n",
      "\ti^2: 9\n",
      "\ti: 4\n",
      "\ti^2: 16\n",
      "\ti: 5\n",
      "\ti^2: 25\n",
      "n = 86\n",
      "\ti: 2\n",
      "\ti^2: 4\n",
      "n = 87\n",
      "\ti: 2\n",
      "\ti^2: 4\n",
      "\ti: 3\n",
      "\ti^2: 9\n",
      "n = 88\n",
      "\ti: 2\n",
      "\ti^2: 4\n",
      "n = 89\n",
      "\ti: 2\n",
      "\ti^2: 4\n",
      "\ti: 3\n",
      "\ti^2: 9\n",
      "\ti: 4\n",
      "\ti^2: 16\n",
      "\ti: 5\n",
      "\ti^2: 25\n",
      "\ti: 6\n",
      "\ti^2: 36\n",
      "\ti: 7\n",
      "\ti^2: 49\n",
      "\ti: 8\n",
      "\ti^2: 64\n",
      "\ti: 9\n",
      "\ti^2: 81\n",
      "n = 90\n",
      "\ti: 2\n",
      "\ti^2: 4\n",
      "n = 91\n",
      "\ti: 2\n",
      "\ti^2: 4\n",
      "\ti: 3\n",
      "\ti^2: 9\n",
      "\ti: 4\n",
      "\ti^2: 16\n",
      "\ti: 5\n",
      "\ti^2: 25\n",
      "\ti: 6\n",
      "\ti^2: 36\n",
      "\ti: 7\n",
      "\ti^2: 49\n",
      "n = 92\n",
      "\ti: 2\n",
      "\ti^2: 4\n",
      "n = 93\n",
      "\ti: 2\n",
      "\ti^2: 4\n",
      "\ti: 3\n",
      "\ti^2: 9\n",
      "n = 94\n",
      "\ti: 2\n",
      "\ti^2: 4\n",
      "n = 95\n",
      "\ti: 2\n",
      "\ti^2: 4\n",
      "\ti: 3\n",
      "\ti^2: 9\n",
      "\ti: 4\n",
      "\ti^2: 16\n",
      "\ti: 5\n",
      "\ti^2: 25\n",
      "n = 96\n",
      "\ti: 2\n",
      "\ti^2: 4\n",
      "n = 97\n",
      "\ti: 2\n",
      "\ti^2: 4\n",
      "\ti: 3\n",
      "\ti^2: 9\n",
      "\ti: 4\n",
      "\ti^2: 16\n",
      "\ti: 5\n",
      "\ti^2: 25\n",
      "\ti: 6\n",
      "\ti^2: 36\n",
      "\ti: 7\n",
      "\ti^2: 49\n",
      "\ti: 8\n",
      "\ti^2: 64\n",
      "\ti: 9\n",
      "\ti^2: 81\n",
      "n = 98\n",
      "\ti: 2\n",
      "\ti^2: 4\n",
      "n = 99\n",
      "\ti: 2\n",
      "\ti^2: 4\n",
      "\ti: 3\n",
      "\ti^2: 9\n"
     ]
    },
    {
     "data": {
      "text/plain": "25"
     },
     "execution_count": 97,
     "metadata": {},
     "output_type": "execute_result"
    }
   ],
   "source": [
    "# Check\n",
    "count_primes(100)"
   ]
  },
  {
   "cell_type": "markdown",
   "metadata": {},
   "source": [
    "### Just for fun:\n",
    "#### PRINT BIG: Write a function that takes in a single letter, and returns a 5x5 representation of that letter\n",
    "    print_big('a')\n",
    "    \n",
    "    out:   *  \n",
    "          * *\n",
    "         *****\n",
    "         *   *\n",
    "         *   *\n",
    "HINT: Consider making a dictionary of possible patterns, and mapping the alphabet to specific 5-line combinations of patterns. <br>For purposes of this exercise, it's ok if your dictionary stops at \"E\"."
   ]
  },
  {
   "cell_type": "code",
   "execution_count": null,
   "metadata": {
    "collapsed": true
   },
   "outputs": [],
   "source": [
    "def print_big(letter):\n",
    "    pass"
   ]
  },
  {
   "cell_type": "code",
   "execution_count": null,
   "metadata": {
    "collapsed": true
   },
   "outputs": [],
   "source": [
    "print_big('a')"
   ]
  },
  {
   "cell_type": "markdown",
   "metadata": {},
   "source": [
    "## Great Job!"
   ]
  }
 ],
 "metadata": {
  "kernelspec": {
   "display_name": "Python 3",
   "language": "python",
   "name": "python3"
  },
  "language_info": {
   "codemirror_mode": {
    "name": "ipython",
    "version": 3
   },
   "file_extension": ".py",
   "mimetype": "text/x-python",
   "name": "python",
   "nbconvert_exporter": "python",
   "pygments_lexer": "ipython3",
   "version": "3.6.6"
  }
 },
 "nbformat": 4,
 "nbformat_minor": 2
}